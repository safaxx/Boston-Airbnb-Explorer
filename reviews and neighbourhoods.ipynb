{
 "cells": [
  {
   "cell_type": "code",
   "execution_count": 1,
   "id": "61458d27",
   "metadata": {},
   "outputs": [],
   "source": [
    "import pandas as pd\n",
    "n = pd.read_csv('neighbourhoods.csv')"
   ]
  },
  {
   "cell_type": "code",
   "execution_count": 2,
   "id": "e39eaa7a",
   "metadata": {},
   "outputs": [
    {
     "data": {
      "text/html": [
       "<div>\n",
       "<style scoped>\n",
       "    .dataframe tbody tr th:only-of-type {\n",
       "        vertical-align: middle;\n",
       "    }\n",
       "\n",
       "    .dataframe tbody tr th {\n",
       "        vertical-align: top;\n",
       "    }\n",
       "\n",
       "    .dataframe thead th {\n",
       "        text-align: right;\n",
       "    }\n",
       "</style>\n",
       "<table border=\"1\" class=\"dataframe\">\n",
       "  <thead>\n",
       "    <tr style=\"text-align: right;\">\n",
       "      <th></th>\n",
       "      <th>neighbourhood_group</th>\n",
       "      <th>neighbourhood</th>\n",
       "    </tr>\n",
       "  </thead>\n",
       "  <tbody>\n",
       "    <tr>\n",
       "      <th>0</th>\n",
       "      <td>NaN</td>\n",
       "      <td>Allston</td>\n",
       "    </tr>\n",
       "    <tr>\n",
       "      <th>1</th>\n",
       "      <td>NaN</td>\n",
       "      <td>Back Bay</td>\n",
       "    </tr>\n",
       "    <tr>\n",
       "      <th>2</th>\n",
       "      <td>NaN</td>\n",
       "      <td>Bay Village</td>\n",
       "    </tr>\n",
       "    <tr>\n",
       "      <th>3</th>\n",
       "      <td>NaN</td>\n",
       "      <td>Beacon Hill</td>\n",
       "    </tr>\n",
       "    <tr>\n",
       "      <th>4</th>\n",
       "      <td>NaN</td>\n",
       "      <td>Brighton</td>\n",
       "    </tr>\n",
       "  </tbody>\n",
       "</table>\n",
       "</div>"
      ],
      "text/plain": [
       "   neighbourhood_group neighbourhood\n",
       "0                  NaN       Allston\n",
       "1                  NaN      Back Bay\n",
       "2                  NaN   Bay Village\n",
       "3                  NaN   Beacon Hill\n",
       "4                  NaN      Brighton"
      ]
     },
     "execution_count": 2,
     "metadata": {},
     "output_type": "execute_result"
    }
   ],
   "source": [
    "n.head()"
   ]
  },
  {
   "cell_type": "code",
   "execution_count": 5,
   "id": "ee3bd114",
   "metadata": {},
   "outputs": [
    {
     "data": {
      "text/plain": [
       "True    26\n",
       "Name: neighbourhood_group, dtype: int64"
      ]
     },
     "execution_count": 5,
     "metadata": {},
     "output_type": "execute_result"
    }
   ],
   "source": [
    "n['neighbourhood_group'].isnull().value_counts()"
   ]
  },
  {
   "cell_type": "code",
   "execution_count": 6,
   "id": "28d4fbed",
   "metadata": {},
   "outputs": [],
   "source": [
    "rev = pd.read_csv('reviews.csv')"
   ]
  },
  {
   "cell_type": "code",
   "execution_count": 7,
   "id": "3ebf2267",
   "metadata": {},
   "outputs": [
    {
     "data": {
      "text/html": [
       "<div>\n",
       "<style scoped>\n",
       "    .dataframe tbody tr th:only-of-type {\n",
       "        vertical-align: middle;\n",
       "    }\n",
       "\n",
       "    .dataframe tbody tr th {\n",
       "        vertical-align: top;\n",
       "    }\n",
       "\n",
       "    .dataframe thead th {\n",
       "        text-align: right;\n",
       "    }\n",
       "</style>\n",
       "<table border=\"1\" class=\"dataframe\">\n",
       "  <thead>\n",
       "    <tr style=\"text-align: right;\">\n",
       "      <th></th>\n",
       "      <th>listing_id</th>\n",
       "      <th>id</th>\n",
       "      <th>date</th>\n",
       "      <th>reviewer_id</th>\n",
       "      <th>reviewer_name</th>\n",
       "      <th>comments</th>\n",
       "    </tr>\n",
       "  </thead>\n",
       "  <tbody>\n",
       "    <tr>\n",
       "      <th>0</th>\n",
       "      <td>3781</td>\n",
       "      <td>37776825</td>\n",
       "      <td>2015-07-10</td>\n",
       "      <td>36059247</td>\n",
       "      <td>Greg</td>\n",
       "      <td>The apartment was as advertised and Frank was ...</td>\n",
       "    </tr>\n",
       "    <tr>\n",
       "      <th>1</th>\n",
       "      <td>3781</td>\n",
       "      <td>41842494</td>\n",
       "      <td>2015-08-09</td>\n",
       "      <td>10459388</td>\n",
       "      <td>Tai</td>\n",
       "      <td>It was a pleasure to stay at Frank's place. Th...</td>\n",
       "    </tr>\n",
       "    <tr>\n",
       "      <th>2</th>\n",
       "      <td>3781</td>\n",
       "      <td>45282151</td>\n",
       "      <td>2015-09-01</td>\n",
       "      <td>12264652</td>\n",
       "      <td>Damien</td>\n",
       "      <td>The apartment description is entirely faithful...</td>\n",
       "    </tr>\n",
       "    <tr>\n",
       "      <th>3</th>\n",
       "      <td>3781</td>\n",
       "      <td>49022647</td>\n",
       "      <td>2015-09-30</td>\n",
       "      <td>41426327</td>\n",
       "      <td>Mike</td>\n",
       "      <td>Thoroughly enjoyed my time at Frank's home. Ha...</td>\n",
       "    </tr>\n",
       "    <tr>\n",
       "      <th>4</th>\n",
       "      <td>3781</td>\n",
       "      <td>52503327</td>\n",
       "      <td>2015-10-30</td>\n",
       "      <td>15151513</td>\n",
       "      <td>Ivan</td>\n",
       "      <td>Great value for the money! This location has e...</td>\n",
       "    </tr>\n",
       "  </tbody>\n",
       "</table>\n",
       "</div>"
      ],
      "text/plain": [
       "   listing_id        id        date  reviewer_id reviewer_name  \\\n",
       "0        3781  37776825  2015-07-10     36059247          Greg   \n",
       "1        3781  41842494  2015-08-09     10459388           Tai   \n",
       "2        3781  45282151  2015-09-01     12264652        Damien   \n",
       "3        3781  49022647  2015-09-30     41426327          Mike   \n",
       "4        3781  52503327  2015-10-30     15151513          Ivan   \n",
       "\n",
       "                                            comments  \n",
       "0  The apartment was as advertised and Frank was ...  \n",
       "1  It was a pleasure to stay at Frank's place. Th...  \n",
       "2  The apartment description is entirely faithful...  \n",
       "3  Thoroughly enjoyed my time at Frank's home. Ha...  \n",
       "4  Great value for the money! This location has e...  "
      ]
     },
     "execution_count": 7,
     "metadata": {},
     "output_type": "execute_result"
    }
   ],
   "source": [
    "rev.head()"
   ]
  },
  {
   "cell_type": "code",
   "execution_count": 9,
   "id": "33ae32ca",
   "metadata": {},
   "outputs": [
    {
     "data": {
      "text/plain": [
       "listing_id        0\n",
       "id                0\n",
       "date              0\n",
       "reviewer_id       0\n",
       "reviewer_name     1\n",
       "comments         44\n",
       "dtype: int64"
      ]
     },
     "execution_count": 9,
     "metadata": {},
     "output_type": "execute_result"
    }
   ],
   "source": [
    "rev.isnull().sum().sort_values()"
   ]
  },
  {
   "cell_type": "code",
   "execution_count": null,
   "id": "bccfb3a5",
   "metadata": {},
   "outputs": [],
   "source": []
  }
 ],
 "metadata": {
  "kernelspec": {
   "display_name": "Python 3 (ipykernel)",
   "language": "python",
   "name": "python3"
  },
  "language_info": {
   "codemirror_mode": {
    "name": "ipython",
    "version": 3
   },
   "file_extension": ".py",
   "mimetype": "text/x-python",
   "name": "python",
   "nbconvert_exporter": "python",
   "pygments_lexer": "ipython3",
   "version": "3.9.7"
  }
 },
 "nbformat": 4,
 "nbformat_minor": 5
}
